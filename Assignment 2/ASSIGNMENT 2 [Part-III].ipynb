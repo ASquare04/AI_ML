{
 "cells": [
  {
   "cell_type": "markdown",
   "id": "9f813a9a",
   "metadata": {},
   "source": [
    "Name : ANMOL ARORA\n",
    "\n",
    "Roll No. : 2301560043\n",
    "\n",
    "Subject : AI_ML\n",
    "\n",
    "Program : MCA(SOET)\n",
    "\n",
    "Entire Code Is Available Here : https://github.com/ASquare04/AI_ML"
   ]
  },
  {
   "cell_type": "markdown",
   "id": "ca38cc84",
   "metadata": {},
   "source": [
    "### Data Cleaning in Pandas"
   ]
  },
  {
   "cell_type": "code",
   "execution_count": 1,
   "id": "fbe94067",
   "metadata": {},
   "outputs": [
    {
     "data": {
      "text/html": [
       "<div>\n",
       "<style scoped>\n",
       "    .dataframe tbody tr th:only-of-type {\n",
       "        vertical-align: middle;\n",
       "    }\n",
       "\n",
       "    .dataframe tbody tr th {\n",
       "        vertical-align: top;\n",
       "    }\n",
       "\n",
       "    .dataframe thead th {\n",
       "        text-align: right;\n",
       "    }\n",
       "</style>\n",
       "<table border=\"1\" class=\"dataframe\">\n",
       "  <thead>\n",
       "    <tr style=\"text-align: right;\">\n",
       "      <th></th>\n",
       "      <th>name</th>\n",
       "      <th>job</th>\n",
       "      <th>company</th>\n",
       "      <th>street_address</th>\n",
       "      <th>city</th>\n",
       "      <th>state</th>\n",
       "      <th>email</th>\n",
       "      <th>user_name</th>\n",
       "    </tr>\n",
       "  </thead>\n",
       "  <tbody>\n",
       "    <tr>\n",
       "      <th>0</th>\n",
       "      <td>John</td>\n",
       "      <td>Engineer</td>\n",
       "      <td>ABC Corp</td>\n",
       "      <td>123 Main St</td>\n",
       "      <td>City1</td>\n",
       "      <td>CA</td>\n",
       "      <td>john@example.com</td>\n",
       "      <td>john_doe</td>\n",
       "    </tr>\n",
       "    <tr>\n",
       "      <th>1</th>\n",
       "      <td>Jane</td>\n",
       "      <td>Manager</td>\n",
       "      <td>XYZ Inc</td>\n",
       "      <td>456 Oak Ave</td>\n",
       "      <td>City2</td>\n",
       "      <td>NY</td>\n",
       "      <td>jane@example.com</td>\n",
       "      <td>jane_smith</td>\n",
       "    </tr>\n",
       "    <tr>\n",
       "      <th>3</th>\n",
       "      <td>Bob</td>\n",
       "      <td>Analyst</td>\n",
       "      <td>123 Industries</td>\n",
       "      <td>789 Pine Rd</td>\n",
       "      <td>City3</td>\n",
       "      <td>TX</td>\n",
       "      <td>bob@example.com</td>\n",
       "      <td>bob_analyst</td>\n",
       "    </tr>\n",
       "  </tbody>\n",
       "</table>\n",
       "</div>"
      ],
      "text/plain": [
       "   name       job         company street_address   city state  \\\n",
       "0  John  Engineer        ABC Corp    123 Main St  City1    CA   \n",
       "1  Jane   Manager         XYZ Inc    456 Oak Ave  City2    NY   \n",
       "3   Bob   Analyst  123 Industries    789 Pine Rd  City3    TX   \n",
       "\n",
       "              email    user_name  \n",
       "0  john@example.com     john_doe  \n",
       "1  jane@example.com   jane_smith  \n",
       "3   bob@example.com  bob_analyst  "
      ]
     },
     "execution_count": 1,
     "metadata": {},
     "output_type": "execute_result"
    }
   ],
   "source": [
    "import pandas as pd\n",
    "from sklearn import preprocessing\n",
    "\n",
    "\n",
    "data = {\n",
    "    'name': ['John', 'Jane', 'John', 'Bob', 'Jane'],\n",
    "    'job': ['Engineer', 'Manager', 'Engineer', 'Analyst', 'Manager'],\n",
    "    'company': ['ABC Corp', 'XYZ Inc', 'ABC Corp', '123 Industries', 'XYZ Inc'],\n",
    "    'street_address': ['123 Main St', '456 Oak Ave', '123 Main St', '789 Pine Rd', '456 Oak Ave'],\n",
    "    'city': ['City1', 'City2', 'City1', 'City3', 'City2'],\n",
    "    'state': ['CA', 'NY', 'CA', 'TX', 'NY'],\n",
    "    'email': ['john@example.com', 'jane@example.com', 'john@example.com', 'bob@example.com', 'jane@example.com'],\n",
    "    'user_name': ['john_doe', 'jane_smith', 'john_doe', 'bob_analyst', 'jane_smith']\n",
    "}\n",
    "\n",
    "df = pd.DataFrame(data)\n",
    "subset_columns = ['name', 'job', 'company', 'street_address', 'city', 'state', 'email', 'user_name']\n",
    "df_deduplicated = df.drop_duplicates(subset=subset_columns)\n",
    "df_deduplicated\n"
   ]
  },
  {
   "cell_type": "code",
   "execution_count": 2,
   "id": "a74b2f37",
   "metadata": {},
   "outputs": [],
   "source": [
    "#pip install fuzzywuzzy"
   ]
  },
  {
   "cell_type": "code",
   "execution_count": 3,
   "id": "57f3393a",
   "metadata": {},
   "outputs": [
    {
     "name": "stderr",
     "output_type": "stream",
     "text": [
      "C:\\Users\\Anmol Arora\\anaconda3\\Lib\\site-packages\\fuzzywuzzy\\fuzz.py:11: UserWarning: Using slow pure-python SequenceMatcher. Install python-Levenshtein to remove this warning\n",
      "  warnings.warn('Using slow pure-python SequenceMatcher. Install python-Levenshtein to remove this warning')\n"
     ]
    },
    {
     "data": {
      "text/html": [
       "<div>\n",
       "<style scoped>\n",
       "    .dataframe tbody tr th:only-of-type {\n",
       "        vertical-align: middle;\n",
       "    }\n",
       "\n",
       "    .dataframe tbody tr th {\n",
       "        vertical-align: top;\n",
       "    }\n",
       "\n",
       "    .dataframe thead th {\n",
       "        text-align: right;\n",
       "    }\n",
       "</style>\n",
       "<table border=\"1\" class=\"dataframe\">\n",
       "  <thead>\n",
       "    <tr style=\"text-align: right;\">\n",
       "      <th></th>\n",
       "      <th>name</th>\n",
       "      <th>job</th>\n",
       "      <th>company</th>\n",
       "      <th>street_address</th>\n",
       "      <th>city</th>\n",
       "      <th>state</th>\n",
       "      <th>email</th>\n",
       "      <th>user_name</th>\n",
       "    </tr>\n",
       "  </thead>\n",
       "  <tbody>\n",
       "    <tr>\n",
       "      <th>0</th>\n",
       "      <td>John</td>\n",
       "      <td>Engineer</td>\n",
       "      <td>ABC Corp</td>\n",
       "      <td>123 Main St</td>\n",
       "      <td>City1</td>\n",
       "      <td>CA</td>\n",
       "      <td>john@example.com</td>\n",
       "      <td>john_doe</td>\n",
       "    </tr>\n",
       "    <tr>\n",
       "      <th>1</th>\n",
       "      <td>Jane</td>\n",
       "      <td>Manager</td>\n",
       "      <td>XYZ Inc</td>\n",
       "      <td>456 Oak Ave</td>\n",
       "      <td>City2</td>\n",
       "      <td>NY</td>\n",
       "      <td>jane@example.com</td>\n",
       "      <td>jane_smith</td>\n",
       "    </tr>\n",
       "    <tr>\n",
       "      <th>2</th>\n",
       "      <td>John</td>\n",
       "      <td>Engineer</td>\n",
       "      <td>ABC Corp</td>\n",
       "      <td>123 Main St</td>\n",
       "      <td>City1</td>\n",
       "      <td>CA</td>\n",
       "      <td>john@example.com</td>\n",
       "      <td>john_doe</td>\n",
       "    </tr>\n",
       "    <tr>\n",
       "      <th>3</th>\n",
       "      <td>Bob</td>\n",
       "      <td>Analyst</td>\n",
       "      <td>123 Industries</td>\n",
       "      <td>789 Pine Rd</td>\n",
       "      <td>City3</td>\n",
       "      <td>TX</td>\n",
       "      <td>bob@example.com</td>\n",
       "      <td>bob_analyst</td>\n",
       "    </tr>\n",
       "    <tr>\n",
       "      <th>4</th>\n",
       "      <td>Jane</td>\n",
       "      <td>Manager</td>\n",
       "      <td>XYZ Inc</td>\n",
       "      <td>456 Oak Ave</td>\n",
       "      <td>City2</td>\n",
       "      <td>NY</td>\n",
       "      <td>jane@example.com</td>\n",
       "      <td>jane_smith</td>\n",
       "    </tr>\n",
       "  </tbody>\n",
       "</table>\n",
       "</div>"
      ],
      "text/plain": [
       "   name       job         company street_address   city state  \\\n",
       "0  John  Engineer        ABC Corp    123 Main St  City1    CA   \n",
       "1  Jane   Manager         XYZ Inc    456 Oak Ave  City2    NY   \n",
       "2  John  Engineer        ABC Corp    123 Main St  City1    CA   \n",
       "3   Bob   Analyst  123 Industries    789 Pine Rd  City3    TX   \n",
       "4  Jane   Manager         XYZ Inc    456 Oak Ave  City2    NY   \n",
       "\n",
       "              email    user_name  \n",
       "0  john@example.com     john_doe  \n",
       "1  jane@example.com   jane_smith  \n",
       "2  john@example.com     john_doe  \n",
       "3   bob@example.com  bob_analyst  \n",
       "4  jane@example.com   jane_smith  "
      ]
     },
     "execution_count": 3,
     "metadata": {},
     "output_type": "execute_result"
    }
   ],
   "source": [
    "import pandas as pd\n",
    "from fuzzywuzzy import fuzz, process\n",
    "df = pd.DataFrame(data)\n",
    "df"
   ]
  },
  {
   "cell_type": "code",
   "execution_count": 4,
   "id": "4222ef35",
   "metadata": {},
   "outputs": [
    {
     "name": "stdout",
     "output_type": "stream",
     "text": [
      "Best match for 'Jaanne': 'Jane' with a similarity score of 80\n"
     ]
    }
   ],
   "source": [
    "query_name = 'Jaanne'\n",
    "matches = process.extract(query_name, df['name'], scorer=fuzz.token_sort_ratio)\n",
    "best_match, score, _ = max(matches, key=lambda x: x[1])\n",
    "threshold = 80\n",
    "if score >= threshold:\n",
    "    print(f\"Best match for '{query_name}': '{best_match}' with a similarity score of {score}\")\n",
    "else:\n",
    "    print(f\"No close match found for '{query_name}'\")"
   ]
  },
  {
   "cell_type": "code",
   "execution_count": 5,
   "id": "d7b57189",
   "metadata": {},
   "outputs": [
    {
     "data": {
      "text/plain": [
       "[('United Kingdom', 90),\n",
       " ('United States', 90),\n",
       " ('Germany', 45),\n",
       " ('Deutschland', 45),\n",
       " ('France', 45)]"
      ]
     },
     "execution_count": 5,
     "metadata": {},
     "output_type": "execute_result"
    }
   ],
   "source": [
    "choices = ['Germany', 'Deutschland', 'France', \n",
    "           'United Kingdom', 'Great Britain', \n",
    "           'United States']\n",
    "process.extract('UN', choices)"
   ]
  },
  {
   "cell_type": "code",
   "execution_count": 6,
   "id": "350e69ed",
   "metadata": {},
   "outputs": [
    {
     "data": {
      "text/plain": [
       "[('Great Britain', 55),\n",
       " ('United Kingdom', 43),\n",
       " ('Deutschland', 30),\n",
       " ('France', 30),\n",
       " ('United States', 27)]"
      ]
     },
     "execution_count": 6,
     "metadata": {},
     "output_type": "execute_result"
    }
   ],
   "source": [
    "process.extract('titainium', choices)"
   ]
  },
  {
   "cell_type": "code",
   "execution_count": 7,
   "id": "e48b3814",
   "metadata": {},
   "outputs": [
    {
     "data": {
      "text/plain": [
       "[('United States', 86),\n",
       " ('United Kingdom', 64),\n",
       " ('Deutschland', 45),\n",
       " ('Great Britain', 30),\n",
       " ('Germany', 26)]"
      ]
     },
     "execution_count": 7,
     "metadata": {},
     "output_type": "execute_result"
    }
   ],
   "source": [
    "process.extract('Un.S.', choices)"
   ]
  },
  {
   "cell_type": "code",
   "execution_count": 8,
   "id": "af3329b1",
   "metadata": {},
   "outputs": [],
   "source": [
    "import pandas as pd\n",
    "from datetime import datetime\n",
    "from sklearn.impute import SimpleImputer\n",
    "\n",
    "hvac = pd.read_csv('HVAC_with_nulls.csv')"
   ]
  },
  {
   "cell_type": "code",
   "execution_count": 9,
   "id": "2d77bebb",
   "metadata": {},
   "outputs": [
    {
     "data": {
      "text/plain": [
       "Date           object\n",
       "Time           object\n",
       "TargetTemp    float64\n",
       "ActualTemp      int64\n",
       "System          int64\n",
       "SystemAge     float64\n",
       "BuildingID      int64\n",
       "10            float64\n",
       "dtype: object"
      ]
     },
     "execution_count": 9,
     "metadata": {},
     "output_type": "execute_result"
    }
   ],
   "source": [
    "hvac.dtypes"
   ]
  },
  {
   "cell_type": "code",
   "execution_count": 10,
   "id": "af7b6b73",
   "metadata": {},
   "outputs": [
    {
     "data": {
      "text/plain": [
       "(8000, 8)"
      ]
     },
     "execution_count": 10,
     "metadata": {},
     "output_type": "execute_result"
    }
   ],
   "source": [
    "hvac.shape"
   ]
  },
  {
   "cell_type": "code",
   "execution_count": 11,
   "id": "fc3cbbf4",
   "metadata": {},
   "outputs": [],
   "source": [
    "imp = SimpleImputer(strategy='mean')"
   ]
  },
  {
   "cell_type": "code",
   "execution_count": 12,
   "id": "b20fe696",
   "metadata": {},
   "outputs": [],
   "source": [
    "hvac_numeric = hvac[['TargetTemp', 'SystemAge']]"
   ]
  },
  {
   "cell_type": "code",
   "execution_count": 13,
   "id": "a948e4b1",
   "metadata": {},
   "outputs": [],
   "source": [
    "transformed = imp.fit_transform(hvac_numeric)"
   ]
  },
  {
   "cell_type": "code",
   "execution_count": 14,
   "id": "59ae9301",
   "metadata": {
    "scrolled": true
   },
   "outputs": [
    {
     "data": {
      "text/html": [
       "<div>\n",
       "<style scoped>\n",
       "    .dataframe tbody tr th:only-of-type {\n",
       "        vertical-align: middle;\n",
       "    }\n",
       "\n",
       "    .dataframe tbody tr th {\n",
       "        vertical-align: top;\n",
       "    }\n",
       "\n",
       "    .dataframe thead th {\n",
       "        text-align: right;\n",
       "    }\n",
       "</style>\n",
       "<table border=\"1\" class=\"dataframe\">\n",
       "  <thead>\n",
       "    <tr style=\"text-align: right;\">\n",
       "      <th></th>\n",
       "      <th>Date</th>\n",
       "      <th>Time</th>\n",
       "      <th>TargetTemp</th>\n",
       "      <th>ActualTemp</th>\n",
       "      <th>System</th>\n",
       "      <th>SystemAge</th>\n",
       "      <th>BuildingID</th>\n",
       "      <th>10</th>\n",
       "    </tr>\n",
       "  </thead>\n",
       "  <tbody>\n",
       "    <tr>\n",
       "      <th>0</th>\n",
       "      <td>6/1/13</td>\n",
       "      <td>0:00:01</td>\n",
       "      <td>66.000000</td>\n",
       "      <td>58</td>\n",
       "      <td>13</td>\n",
       "      <td>20.000000</td>\n",
       "      <td>4</td>\n",
       "      <td>NaN</td>\n",
       "    </tr>\n",
       "    <tr>\n",
       "      <th>1</th>\n",
       "      <td>6/2/13</td>\n",
       "      <td>1:00:01</td>\n",
       "      <td>67.507735</td>\n",
       "      <td>68</td>\n",
       "      <td>3</td>\n",
       "      <td>20.000000</td>\n",
       "      <td>17</td>\n",
       "      <td>NaN</td>\n",
       "    </tr>\n",
       "    <tr>\n",
       "      <th>2</th>\n",
       "      <td>6/3/13</td>\n",
       "      <td>2:00:01</td>\n",
       "      <td>70.000000</td>\n",
       "      <td>73</td>\n",
       "      <td>17</td>\n",
       "      <td>20.000000</td>\n",
       "      <td>18</td>\n",
       "      <td>NaN</td>\n",
       "    </tr>\n",
       "    <tr>\n",
       "      <th>3</th>\n",
       "      <td>6/4/13</td>\n",
       "      <td>3:00:01</td>\n",
       "      <td>67.000000</td>\n",
       "      <td>63</td>\n",
       "      <td>2</td>\n",
       "      <td>15.386643</td>\n",
       "      <td>15</td>\n",
       "      <td>NaN</td>\n",
       "    </tr>\n",
       "    <tr>\n",
       "      <th>4</th>\n",
       "      <td>6/5/13</td>\n",
       "      <td>4:00:01</td>\n",
       "      <td>68.000000</td>\n",
       "      <td>74</td>\n",
       "      <td>16</td>\n",
       "      <td>9.000000</td>\n",
       "      <td>3</td>\n",
       "      <td>NaN</td>\n",
       "    </tr>\n",
       "    <tr>\n",
       "      <th>5</th>\n",
       "      <td>6/6/13</td>\n",
       "      <td>5:00:01</td>\n",
       "      <td>67.000000</td>\n",
       "      <td>56</td>\n",
       "      <td>13</td>\n",
       "      <td>28.000000</td>\n",
       "      <td>4</td>\n",
       "      <td>NaN</td>\n",
       "    </tr>\n",
       "    <tr>\n",
       "      <th>6</th>\n",
       "      <td>6/7/13</td>\n",
       "      <td>6:00:01</td>\n",
       "      <td>70.000000</td>\n",
       "      <td>58</td>\n",
       "      <td>12</td>\n",
       "      <td>24.000000</td>\n",
       "      <td>2</td>\n",
       "      <td>NaN</td>\n",
       "    </tr>\n",
       "    <tr>\n",
       "      <th>7</th>\n",
       "      <td>6/8/13</td>\n",
       "      <td>7:00:01</td>\n",
       "      <td>67.507735</td>\n",
       "      <td>73</td>\n",
       "      <td>20</td>\n",
       "      <td>26.000000</td>\n",
       "      <td>16</td>\n",
       "      <td>NaN</td>\n",
       "    </tr>\n",
       "    <tr>\n",
       "      <th>8</th>\n",
       "      <td>6/9/13</td>\n",
       "      <td>8:00:01</td>\n",
       "      <td>66.000000</td>\n",
       "      <td>69</td>\n",
       "      <td>16</td>\n",
       "      <td>9.000000</td>\n",
       "      <td>9</td>\n",
       "      <td>NaN</td>\n",
       "    </tr>\n",
       "    <tr>\n",
       "      <th>9</th>\n",
       "      <td>6/10/13</td>\n",
       "      <td>9:00:01</td>\n",
       "      <td>65.000000</td>\n",
       "      <td>57</td>\n",
       "      <td>6</td>\n",
       "      <td>5.000000</td>\n",
       "      <td>12</td>\n",
       "      <td>NaN</td>\n",
       "    </tr>\n",
       "  </tbody>\n",
       "</table>\n",
       "</div>"
      ],
      "text/plain": [
       "      Date     Time  TargetTemp  ActualTemp  System  SystemAge  BuildingID  10\n",
       "0   6/1/13  0:00:01   66.000000          58      13  20.000000           4 NaN\n",
       "1   6/2/13  1:00:01   67.507735          68       3  20.000000          17 NaN\n",
       "2   6/3/13  2:00:01   70.000000          73      17  20.000000          18 NaN\n",
       "3   6/4/13  3:00:01   67.000000          63       2  15.386643          15 NaN\n",
       "4   6/5/13  4:00:01   68.000000          74      16   9.000000           3 NaN\n",
       "5   6/6/13  5:00:01   67.000000          56      13  28.000000           4 NaN\n",
       "6   6/7/13  6:00:01   70.000000          58      12  24.000000           2 NaN\n",
       "7   6/8/13  7:00:01   67.507735          73      20  26.000000          16 NaN\n",
       "8   6/9/13  8:00:01   66.000000          69      16   9.000000           9 NaN\n",
       "9  6/10/13  9:00:01   65.000000          57       6   5.000000          12 NaN"
      ]
     },
     "execution_count": 14,
     "metadata": {},
     "output_type": "execute_result"
    }
   ],
   "source": [
    "hvac[['TargetTemp', 'SystemAge']] = transformed\n",
    "hvac.head(10)"
   ]
  },
  {
   "cell_type": "code",
   "execution_count": 15,
   "id": "8f3a6b7a",
   "metadata": {},
   "outputs": [],
   "source": [
    "hvac['ScaledTemp'] = preprocessing.scale(hvac['ActualTemp'])"
   ]
  },
  {
   "cell_type": "code",
   "execution_count": 16,
   "id": "1ff01990",
   "metadata": {},
   "outputs": [
    {
     "data": {
      "text/plain": [
       "0   -1.293272\n",
       "1    0.048732\n",
       "2    0.719733\n",
       "3   -0.622270\n",
       "4    0.853934\n",
       "Name: ScaledTemp, dtype: float64"
      ]
     },
     "execution_count": 16,
     "metadata": {},
     "output_type": "execute_result"
    }
   ],
   "source": [
    "hvac['ScaledTemp'].head()"
   ]
  },
  {
   "cell_type": "code",
   "execution_count": 17,
   "id": "55a10b4e",
   "metadata": {},
   "outputs": [],
   "source": [
    "min_max_scaler = preprocessing.MinMaxScaler()"
   ]
  },
  {
   "cell_type": "code",
   "execution_count": 18,
   "id": "7c166617",
   "metadata": {},
   "outputs": [
    {
     "data": {
      "text/plain": [
       "array([[0.12],\n",
       "       [0.52],\n",
       "       [0.72],\n",
       "       ...,\n",
       "       [0.56],\n",
       "       [0.32],\n",
       "       [0.44]])"
      ]
     },
     "execution_count": 18,
     "metadata": {},
     "output_type": "execute_result"
    }
   ],
   "source": [
    "temp_minmax = min_max_scaler.fit_transform(hvac[['ActualTemp']])\n",
    "temp_minmax"
   ]
  }
 ],
 "metadata": {
  "kernelspec": {
   "display_name": "Python 3 (ipykernel)",
   "language": "python",
   "name": "python3"
  },
  "language_info": {
   "codemirror_mode": {
    "name": "ipython",
    "version": 3
   },
   "file_extension": ".py",
   "mimetype": "text/x-python",
   "name": "python",
   "nbconvert_exporter": "python",
   "pygments_lexer": "ipython3",
   "version": "3.11.4"
  }
 },
 "nbformat": 4,
 "nbformat_minor": 5
}
